{
 "cells": [
  {
   "cell_type": "markdown",
   "id": "c18ca91b-207d-4aae-b9a5-0dbafb88a7e5",
   "metadata": {},
   "source": [
    "## NumPy Library "
   ]
  },
  {
   "cell_type": "markdown",
   "id": "25aed160-5bc4-42da-9186-5d9d20213153",
   "metadata": {},
   "source": [
    "NumPy - NumPy is a Python library used for working with arrays.\n",
    "-   Numerical Python\n",
    "-   Arrays in Python\n",
    "-   homogeneous - Same type of values can store\n",
    "-   In Python we have lists that serve the purpose of arrays, but they are slow to process.\n",
    "-   NumPy aims to provide an array object that is up to 50x faster than traditional Python lists.\n",
    "-   The array object in NumPy is called ndarray, it provides a lot of supporting functions that make working with ndarray very easy.\n",
    "-   Arrays are very frequently used in data science, where speed and resources are very important."
   ]
  },
  {
   "cell_type": "code",
   "execution_count": 1,
   "id": "6c9a8a38-6f8d-42e2-889a-767a2920ddf2",
   "metadata": {},
   "outputs": [],
   "source": [
    "# import numpy\n",
    "import numpy as np"
   ]
  },
  {
   "cell_type": "markdown",
   "id": "c2fc996b-e528-4c73-a536-f768d27db236",
   "metadata": {},
   "source": [
    "-  #### NumPy Arrays"
   ]
  },
  {
   "cell_type": "markdown",
   "id": "017b1f81-33cb-4d6e-8aae-d0ee5be1eae4",
   "metadata": {},
   "source": [
    "Creating Arrays\n",
    "-  1D array \n",
    "-  2D array\n",
    "-  3D array"
   ]
  },
  {
   "cell_type": "code",
   "execution_count": 108,
   "id": "19808f70-0ee2-4829-a8b7-4ad645f3aa46",
   "metadata": {},
   "outputs": [
    {
     "data": {
      "text/plain": [
       "array([1, 2, 3, 4, 5])"
      ]
     },
     "execution_count": 108,
     "metadata": {},
     "output_type": "execute_result"
    }
   ],
   "source": [
    "# 1D array \n",
    "a = np.array([1,2,3,4,5])\n",
    "a"
   ]
  },
  {
   "cell_type": "code",
   "execution_count": 7,
   "id": "4ededbf6-8e51-4724-862b-d905e9fb6516",
   "metadata": {},
   "outputs": [
    {
     "data": {
      "text/plain": [
       "numpy.ndarray"
      ]
     },
     "execution_count": 7,
     "metadata": {},
     "output_type": "execute_result"
    }
   ],
   "source": [
    "type(a)"
   ]
  },
  {
   "cell_type": "code",
   "execution_count": 19,
   "id": "37e03e91-e50b-4aff-a2de-951d8018904e",
   "metadata": {},
   "outputs": [
    {
     "data": {
      "text/plain": [
       "1"
      ]
     },
     "execution_count": 19,
     "metadata": {},
     "output_type": "execute_result"
    }
   ],
   "source": [
    "a.ndim"
   ]
  },
  {
   "cell_type": "code",
   "execution_count": null,
   "id": "ac6d8d2f-60d2-4fd8-9435-a1b1b5ee6dc5",
   "metadata": {},
   "outputs": [],
   "source": [
    "# 2D array \n",
    "b = np.array([[2,3,4],[4,5,6]])\n",
    "b"
   ]
  },
  {
   "cell_type": "code",
   "execution_count": 14,
   "id": "4b8c7287-dc21-4ca4-a55e-4de89163742d",
   "metadata": {},
   "outputs": [
    {
     "data": {
      "text/plain": [
       "numpy.ndarray"
      ]
     },
     "execution_count": 14,
     "metadata": {},
     "output_type": "execute_result"
    }
   ],
   "source": [
    "type(b)"
   ]
  },
  {
   "cell_type": "code",
   "execution_count": 20,
   "id": "684513e4-a4f6-46fb-8f4b-2fccf0967fb0",
   "metadata": {},
   "outputs": [
    {
     "data": {
      "text/plain": [
       "2"
      ]
     },
     "execution_count": 20,
     "metadata": {},
     "output_type": "execute_result"
    }
   ],
   "source": [
    "b.ndim"
   ]
  },
  {
   "cell_type": "code",
   "execution_count": 17,
   "id": "11bd756e-6274-4d2c-bade-839a6d300059",
   "metadata": {},
   "outputs": [
    {
     "data": {
      "text/plain": [
       "array([[[ 4,  5,  6],\n",
       "        [ 9,  5, 30],\n",
       "        [ 7,  2,  6]]])"
      ]
     },
     "execution_count": 17,
     "metadata": {},
     "output_type": "execute_result"
    }
   ],
   "source": [
    "# 3D array \n",
    "c = np.array([[[4,5,6],[9,5,30],[7,2,6]]])\n",
    "c"
   ]
  },
  {
   "cell_type": "code",
   "execution_count": 18,
   "id": "31a26085-f6f0-4bb7-b716-82c01ec113c3",
   "metadata": {},
   "outputs": [
    {
     "data": {
      "text/plain": [
       "numpy.ndarray"
      ]
     },
     "execution_count": 18,
     "metadata": {},
     "output_type": "execute_result"
    }
   ],
   "source": [
    "type(c)"
   ]
  },
  {
   "cell_type": "code",
   "execution_count": 21,
   "id": "1631c56f-9c80-47e4-b3f2-e8785c5d354e",
   "metadata": {},
   "outputs": [
    {
     "data": {
      "text/plain": [
       "3"
      ]
     },
     "execution_count": 21,
     "metadata": {},
     "output_type": "execute_result"
    }
   ],
   "source": [
    "c.ndim"
   ]
  },
  {
   "cell_type": "markdown",
   "id": "474a9b37-79f6-4c1c-80b1-8f849fa0f0c9",
   "metadata": {},
   "source": [
    "-  #### Initial Placeholders"
   ]
  },
  {
   "cell_type": "markdown",
   "id": "5869df96-6c39-4998-b2be-110f15e4a26f",
   "metadata": {},
   "source": [
    "Create an array of zeros \n",
    "-  np.zeros((r,c))"
   ]
  },
  {
   "cell_type": "code",
   "execution_count": 42,
   "id": "e0303830-173f-4b62-8801-adfbead34357",
   "metadata": {},
   "outputs": [
    {
     "data": {
      "text/plain": [
       "array([[0., 0., 0., 0.],\n",
       "       [0., 0., 0., 0.],\n",
       "       [0., 0., 0., 0.]])"
      ]
     },
     "execution_count": 42,
     "metadata": {},
     "output_type": "execute_result"
    }
   ],
   "source": [
    "# by default, np.zeros() creates an array of floating-point numbers with dtype='float64'.\n",
    "# np.zeros() accepts any sequence-like object (like a tuple or list) to specify the shape.\n",
    "# So both (3, 4) and [3, 4] are interpreted as shape (3, 4).\n",
    "zero_array = np.zeros([3,4])\n",
    "zero_array"
   ]
  },
  {
   "cell_type": "code",
   "execution_count": 32,
   "id": "2afcf2bb-ca00-48fd-9441-10dc52efd710",
   "metadata": {},
   "outputs": [
    {
     "data": {
      "text/plain": [
       "dtype('float64')"
      ]
     },
     "execution_count": 32,
     "metadata": {},
     "output_type": "execute_result"
    }
   ],
   "source": [
    "zero_array.dtype"
   ]
  },
  {
   "cell_type": "code",
   "execution_count": 40,
   "id": "844b5174-9e21-4f5e-bc17-7ac770ae48e9",
   "metadata": {},
   "outputs": [
    {
     "data": {
      "text/plain": [
       "2"
      ]
     },
     "execution_count": 40,
     "metadata": {},
     "output_type": "execute_result"
    }
   ],
   "source": [
    "zero_array.ndim"
   ]
  },
  {
   "cell_type": "code",
   "execution_count": 51,
   "id": "416e9f3a-9669-47ae-b18f-e72a6697ebf0",
   "metadata": {},
   "outputs": [
    {
     "data": {
      "text/plain": [
       "array([0., 0., 0., 0., 0., 0.])"
      ]
     },
     "execution_count": 51,
     "metadata": {},
     "output_type": "execute_result"
    }
   ],
   "source": [
    "array = np.zeros(([6]))\n",
    "array"
   ]
  },
  {
   "cell_type": "code",
   "execution_count": 52,
   "id": "e6f8bb54-dc4d-46cc-bdab-10a883c3e765",
   "metadata": {},
   "outputs": [
    {
     "data": {
      "text/plain": [
       "1"
      ]
     },
     "execution_count": 52,
     "metadata": {},
     "output_type": "execute_result"
    }
   ],
   "source": [
    "array.ndim"
   ]
  },
  {
   "cell_type": "markdown",
   "id": "feb926b4-17d9-4c26-b4b4-9561e90d60a2",
   "metadata": {},
   "source": [
    "Create an array of ones"
   ]
  },
  {
   "cell_type": "code",
   "execution_count": 37,
   "id": "2ed305c5-c66e-433b-917e-1dedcedaac83",
   "metadata": {},
   "outputs": [
    {
     "data": {
      "text/plain": [
       "array([[1., 1., 1., 1.],\n",
       "       [1., 1., 1., 1.],\n",
       "       [1., 1., 1., 1.],\n",
       "       [1., 1., 1., 1.],\n",
       "       [1., 1., 1., 1.]])"
      ]
     },
     "execution_count": 37,
     "metadata": {},
     "output_type": "execute_result"
    }
   ],
   "source": [
    "one_array = np.ones([5,4])\n",
    "one_array"
   ]
  },
  {
   "cell_type": "code",
   "execution_count": 39,
   "id": "e435353d-259d-4268-b416-02605cc1851b",
   "metadata": {},
   "outputs": [
    {
     "data": {
      "text/plain": [
       "2"
      ]
     },
     "execution_count": 39,
     "metadata": {},
     "output_type": "execute_result"
    }
   ],
   "source": [
    "one_array.ndim"
   ]
  },
  {
   "cell_type": "code",
   "execution_count": 38,
   "id": "1e0296b3-cc43-481f-9ce3-8d101537d757",
   "metadata": {},
   "outputs": [
    {
     "data": {
      "text/plain": [
       "dtype('float64')"
      ]
     },
     "execution_count": 38,
     "metadata": {},
     "output_type": "execute_result"
    }
   ],
   "source": [
    "one_array.dtype"
   ]
  },
  {
   "cell_type": "markdown",
   "id": "ce588692-19c2-4f20-bcdb-d9a79ed76484",
   "metadata": {},
   "source": [
    "Create an array of evenly"
   ]
  },
  {
   "cell_type": "code",
   "execution_count": 60,
   "id": "2c5b5d45-2bb9-425a-8e6c-70d279415ef8",
   "metadata": {},
   "outputs": [
    {
     "data": {
      "text/plain": [
       "array([[[1., 1., 1., 1.],\n",
       "        [1., 1., 1., 1.],\n",
       "        [1., 1., 1., 1.]],\n",
       "\n",
       "       [[1., 1., 1., 1.],\n",
       "        [1., 1., 1., 1.],\n",
       "        [1., 1., 1., 1.]]])"
      ]
     },
     "execution_count": 60,
     "metadata": {},
     "output_type": "execute_result"
    }
   ],
   "source": [
    "# np.ones((no. of array,r,c))\n",
    "np.ones((2,3,4))"
   ]
  },
  {
   "cell_type": "markdown",
   "id": "271c9197-5bad-490a-b8c0-45ad94efa727",
   "metadata": {},
   "source": [
    "spaced values (step value) "
   ]
  },
  {
   "cell_type": "code",
   "execution_count": 73,
   "id": "6475a24d-71a6-446b-9c10-a29c88dd94ee",
   "metadata": {},
   "outputs": [
    {
     "data": {
      "text/plain": [
       "array([ 5, 10, 15, 20, 25, 30, 35, 40, 45, 50])"
      ]
     },
     "execution_count": 73,
     "metadata": {},
     "output_type": "execute_result"
    }
   ],
   "source": [
    "# np.arange(start no. , end no. , spacing)\n",
    "np.arange(5,55,5)"
   ]
  },
  {
   "cell_type": "markdown",
   "id": "0ef0e9c7-4e8b-4426-80d2-e98dbc718dba",
   "metadata": {},
   "source": [
    "spaced values (number of samples)"
   ]
  },
  {
   "cell_type": "code",
   "execution_count": 78,
   "id": "b1743023-6b98-4b08-ac88-7f3566e1188f",
   "metadata": {},
   "outputs": [
    {
     "data": {
      "text/plain": [
       "array([ 5.        , 10.55555556, 16.11111111, 21.66666667, 27.22222222,\n",
       "       32.77777778, 38.33333333, 43.88888889, 49.44444444, 55.        ])"
      ]
     },
     "execution_count": 78,
     "metadata": {},
     "output_type": "execute_result"
    }
   ],
   "source": [
    "# np.linspace(star value,end value, no of values we can from start to end)\n",
    "np.linspace(5,55,10)"
   ]
  },
  {
   "cell_type": "markdown",
   "id": "9e8a9e7e-a5a3-49a3-982e-80e6fda198c9",
   "metadata": {},
   "source": [
    "Create a constant array"
   ]
  },
  {
   "cell_type": "code",
   "execution_count": 83,
   "id": "57f40d16-54b1-4f0f-8ed5-b639b56f490e",
   "metadata": {},
   "outputs": [
    {
     "data": {
      "text/plain": [
       "array([[2, 2, 2],\n",
       "       [2, 2, 2],\n",
       "       [2, 2, 2],\n",
       "       [2, 2, 2]])"
      ]
     },
     "execution_count": 83,
     "metadata": {},
     "output_type": "execute_result"
    }
   ],
   "source": [
    "# np.full((r,c),no whch we want to fill in array)\n",
    "np.full((4,3),2)"
   ]
  },
  {
   "cell_type": "markdown",
   "id": "e7997b80-a6e3-4a5a-aa49-690d693e815c",
   "metadata": {},
   "source": [
    "Create a 2X2 identity matrix"
   ]
  },
  {
   "cell_type": "code",
   "execution_count": 85,
   "id": "52dc114b-cd33-48b1-becb-626d2c8b37a9",
   "metadata": {},
   "outputs": [
    {
     "data": {
      "text/plain": [
       "array([[1., 0., 0., 0.],\n",
       "       [0., 1., 0., 0.],\n",
       "       [0., 0., 1., 0.],\n",
       "       [0., 0., 0., 1.]])"
      ]
     },
     "execution_count": 85,
     "metadata": {},
     "output_type": "execute_result"
    }
   ],
   "source": [
    "np.eye(4)"
   ]
  },
  {
   "cell_type": "markdown",
   "id": "4b601819-15b8-42b6-87a4-46cb18840ab0",
   "metadata": {},
   "source": [
    "Create an array with random values"
   ]
  },
  {
   "cell_type": "code",
   "execution_count": 93,
   "id": "932fd138-adfa-45d6-b741-4ddbd9c2119f",
   "metadata": {},
   "outputs": [
    {
     "data": {
      "text/plain": [
       "array([[0.30654282, 0.14761299, 0.36840463],\n",
       "       [0.23027992, 0.98202786, 0.68138738],\n",
       "       [0.47649438, 0.58363917, 0.87406071]])"
      ]
     },
     "execution_count": 93,
     "metadata": {},
     "output_type": "execute_result"
    }
   ],
   "source": [
    "# Creating a array of random values with r and c between 0 to 1 \n",
    "np.random.random((3,3))"
   ]
  },
  {
   "cell_type": "markdown",
   "id": "4959474e-42b6-42cd-90d3-c45b5d7f87cb",
   "metadata": {},
   "source": [
    "Create an empty array"
   ]
  },
  {
   "cell_type": "code",
   "execution_count": 99,
   "id": "02124cdf-5a15-46b4-8631-dd1a6b2aa2af",
   "metadata": {},
   "outputs": [
    {
     "data": {
      "text/plain": [
       "array([[6.23042070e-307, 4.67296746e-307],\n",
       "       [1.69121096e-306, 6.23058707e-307],\n",
       "       [2.22526399e-307, 2.05837348e-312]])"
      ]
     },
     "execution_count": 99,
     "metadata": {},
     "output_type": "execute_result"
    }
   ],
   "source": [
    "np.empty((3,2))"
   ]
  },
  {
   "cell_type": "markdown",
   "id": "8668bb48-507b-4ad0-820e-4cd238ebcddb",
   "metadata": {},
   "source": [
    "-  #### I/O"
   ]
  },
  {
   "cell_type": "markdown",
   "id": "714fee31-6f1b-47a3-bd07-2988b09d0319",
   "metadata": {},
   "source": [
    "Saving & Loading On Disk"
   ]
  },
  {
   "cell_type": "code",
   "execution_count": 109,
   "id": "56f5f299-082d-411b-a11c-4ac9d8ad146e",
   "metadata": {},
   "outputs": [],
   "source": [
    "# np.save('name which we want to give', array which we want to save )\n",
    "np.save('my_array',a)"
   ]
  },
  {
   "cell_type": "code",
   "execution_count": 111,
   "id": "8c3c36f3-8683-444a-9299-6291d62e0c20",
   "metadata": {},
   "outputs": [
    {
     "data": {
      "text/plain": [
       "array([1, 2, 3, 4, 5])"
      ]
     },
     "execution_count": 111,
     "metadata": {},
     "output_type": "execute_result"
    }
   ],
   "source": [
    "# np.load('name of array which we want to load.npy')\n",
    "np.load('my_array.npy')"
   ]
  },
  {
   "cell_type": "code",
   "execution_count": 116,
   "id": "bb541925-cb48-41be-876a-3e804e33a849",
   "metadata": {},
   "outputs": [],
   "source": [
    "# 'array.npz': the filename (you can omit .npz and it will be added automatically)\n",
    "# a, b: the NumPy arrays we want to save\n",
    "zip_arr = np.savez('array.npz',a,b)"
   ]
  },
  {
   "cell_type": "code",
   "execution_count": 122,
   "id": "721afdb8-ec0f-46c5-9497-007160a79c80",
   "metadata": {},
   "outputs": [
    {
     "data": {
      "text/plain": [
       "['arr_0', 'arr_1']"
      ]
     },
     "execution_count": 122,
     "metadata": {},
     "output_type": "execute_result"
    }
   ],
   "source": [
    "# To load them back:\n",
    "zip_arr = np.load('array.npz')\n",
    "zip_arr.files"
   ]
  },
  {
   "cell_type": "code",
   "execution_count": 125,
   "id": "7818b039-37f2-4b53-972f-e7b36534dc79",
   "metadata": {},
   "outputs": [
    {
     "data": {
      "text/plain": [
       "array([1, 2, 3, 4, 5])"
      ]
     },
     "execution_count": 125,
     "metadata": {},
     "output_type": "execute_result"
    }
   ],
   "source": [
    "zip_arr['arr_0']"
   ]
  },
  {
   "cell_type": "code",
   "execution_count": 126,
   "id": "97bd316b-60e8-4de3-8555-5ae04449de2f",
   "metadata": {},
   "outputs": [
    {
     "data": {
      "text/plain": [
       "array([[2, 3, 4],\n",
       "       [4, 5, 6]])"
      ]
     },
     "execution_count": 126,
     "metadata": {},
     "output_type": "execute_result"
    }
   ],
   "source": [
    "zip_arr['arr_1']"
   ]
  },
  {
   "cell_type": "markdown",
   "id": "69951148-ea3c-475a-b66b-1dd55371b6a2",
   "metadata": {},
   "source": [
    "Saving & Loading Text Files"
   ]
  },
  {
   "cell_type": "code",
   "execution_count": 139,
   "id": "dc5b9657-4703-41f5-b618-31179d8e6e53",
   "metadata": {},
   "outputs": [
    {
     "data": {
      "text/plain": [
       "array([[1., 2., 3.],\n",
       "       [4., 5., 6.],\n",
       "       [7., 8., 9.]])"
      ]
     },
     "execution_count": 139,
     "metadata": {},
     "output_type": "execute_result"
    }
   ],
   "source": [
    "#np.loadtxt(\"file name which you want to load.txt\")\n",
    "# File and jnb should be in same folder \n",
    "np.loadtxt(\"sample_array.txt\")"
   ]
  },
  {
   "cell_type": "code",
   "execution_count": 140,
   "id": "6ca961ef-1902-4818-bc3c-62bcef6fffc7",
   "metadata": {},
   "outputs": [],
   "source": [
    "np.savetxt('sample_array',a,delimiter = \" + \")"
   ]
  },
  {
   "cell_type": "code",
   "execution_count": 144,
   "id": "fa6e7840-be0f-4260-bd16-644a7ea07c8a",
   "metadata": {},
   "outputs": [
    {
     "data": {
      "text/plain": [
       "array([[1., 2., 3.],\n",
       "       [4., 5., 6.],\n",
       "       [7., 8., 9.]])"
      ]
     },
     "execution_count": 144,
     "metadata": {},
     "output_type": "execute_result"
    }
   ],
   "source": [
    "loaded_a = np.loadtxt('sample_array.txt', delimiter=\" \")\n",
    "loaded_a"
   ]
  },
  {
   "cell_type": "markdown",
   "id": "fb572bec-120d-4c61-bf57-5b1e3dc553f5",
   "metadata": {},
   "source": [
    "-  #### Data Types"
   ]
  },
  {
   "cell_type": "code",
   "execution_count": 149,
   "id": "49be8e48-e050-43ce-84d3-0b915e3a2227",
   "metadata": {},
   "outputs": [
    {
     "data": {
      "text/plain": [
       "numpy.int64"
      ]
     },
     "execution_count": 149,
     "metadata": {},
     "output_type": "execute_result"
    }
   ],
   "source": [
    "# Signed 64-bit integer types\n",
    "np.int64 "
   ]
  },
  {
   "cell_type": "code",
   "execution_count": 150,
   "id": "c0b8a756-2d71-4e6d-971f-29fd8ebd52d8",
   "metadata": {},
   "outputs": [
    {
     "data": {
      "text/plain": [
       "numpy.float32"
      ]
     },
     "execution_count": 150,
     "metadata": {},
     "output_type": "execute_result"
    }
   ],
   "source": [
    "# Standard double-precision floating point\n",
    "np.float32 "
   ]
  },
  {
   "cell_type": "code",
   "execution_count": 152,
   "id": "3a45fa0d-6996-41fd-9aed-c9b434a383b4",
   "metadata": {},
   "outputs": [
    {
     "data": {
      "text/plain": [
       "numpy.complex128"
      ]
     },
     "execution_count": 152,
     "metadata": {},
     "output_type": "execute_result"
    }
   ],
   "source": [
    "# Complex numbers represented by 128 floats\n",
    "# NumPy's complex number with 128-bit precision\n",
    "np.complex128"
   ]
  },
  {
   "cell_type": "code",
   "execution_count": 154,
   "id": "a13eee55-e35f-43cb-89db-484a7c7a90f6",
   "metadata": {},
   "outputs": [
    {
     "data": {
      "text/plain": [
       "numpy.bool_"
      ]
     },
     "execution_count": 154,
     "metadata": {},
     "output_type": "execute_result"
    }
   ],
   "source": [
    "#  Boolean type storing TRUE and FALSE values\n",
    "np.bool_"
   ]
  },
  {
   "cell_type": "code",
   "execution_count": 156,
   "id": "3b521ede-4daa-4a37-a619-210169cd1bbc",
   "metadata": {},
   "outputs": [
    {
     "data": {
      "text/plain": [
       "numpy.object_"
      ]
     },
     "execution_count": 156,
     "metadata": {},
     "output_type": "execute_result"
    }
   ],
   "source": [
    "# Python object type\n",
    "np.object_"
   ]
  },
  {
   "cell_type": "code",
   "execution_count": 157,
   "id": "2d6d2200-0801-47b4-b754-87e323c59b31",
   "metadata": {},
   "outputs": [
    {
     "data": {
      "text/plain": [
       "numpy.bytes_"
      ]
     },
     "execution_count": 157,
     "metadata": {},
     "output_type": "execute_result"
    }
   ],
   "source": [
    "# Fixed-length string type\n",
    "np.string_ "
   ]
  },
  {
   "cell_type": "code",
   "execution_count": 158,
   "id": "a5f5eced-112a-45af-a51a-eb4897335710",
   "metadata": {},
   "outputs": [
    {
     "data": {
      "text/plain": [
       "numpy.str_"
      ]
     },
     "execution_count": 158,
     "metadata": {},
     "output_type": "execute_result"
    }
   ],
   "source": [
    "# Fixed-length unicode type\n",
    "np.unicode_ "
   ]
  },
  {
   "cell_type": "markdown",
   "id": "1a7bd768-df2f-40de-82ab-b86d7dcece21",
   "metadata": {},
   "source": [
    "-  #### Inspecting Your Array"
   ]
  },
  {
   "cell_type": "code",
   "execution_count": 161,
   "id": "7190682d-37e7-4a6f-a3cc-f27fcfbbaa31",
   "metadata": {},
   "outputs": [
    {
     "data": {
      "text/plain": [
       "array([[2, 3, 4],\n",
       "       [4, 5, 6]])"
      ]
     },
     "execution_count": 161,
     "metadata": {},
     "output_type": "execute_result"
    }
   ],
   "source": [
    "b"
   ]
  },
  {
   "cell_type": "code",
   "execution_count": 162,
   "id": "9751bf4e-ad53-45f3-8642-374368bda887",
   "metadata": {},
   "outputs": [
    {
     "data": {
      "text/plain": [
       "(2, 3)"
      ]
     },
     "execution_count": 162,
     "metadata": {},
     "output_type": "execute_result"
    }
   ],
   "source": [
    "# Array dimensions\n",
    "b.shape"
   ]
  },
  {
   "cell_type": "code",
   "execution_count": 167,
   "id": "569f5153-239b-4ede-b16b-a9c070004d68",
   "metadata": {},
   "outputs": [
    {
     "data": {
      "text/plain": [
       "array([[[ 4,  5,  6],\n",
       "        [ 9,  5, 30],\n",
       "        [ 7,  2,  6]]])"
      ]
     },
     "execution_count": 167,
     "metadata": {},
     "output_type": "execute_result"
    }
   ],
   "source": [
    "c"
   ]
  },
  {
   "cell_type": "code",
   "execution_count": 166,
   "id": "5da9806c-5680-4af8-8a60-e0f8064dc7ff",
   "metadata": {},
   "outputs": [
    {
     "data": {
      "text/plain": [
       "1"
      ]
     },
     "execution_count": 166,
     "metadata": {},
     "output_type": "execute_result"
    }
   ],
   "source": [
    "# Length of array\n",
    "len(c)"
   ]
  },
  {
   "cell_type": "code",
   "execution_count": 168,
   "id": "951cdf6a-2b74-4891-b274-634e2a87ed9c",
   "metadata": {},
   "outputs": [
    {
     "data": {
      "text/plain": [
       "9"
      ]
     },
     "execution_count": 168,
     "metadata": {},
     "output_type": "execute_result"
    }
   ],
   "source": [
    "# Number of array elements\n",
    "c.size"
   ]
  },
  {
   "cell_type": "code",
   "execution_count": 169,
   "id": "02625b50-1d5b-4aa6-8bf7-e645c0bf743b",
   "metadata": {},
   "outputs": [
    {
     "data": {
      "text/plain": [
       "3"
      ]
     },
     "execution_count": 169,
     "metadata": {},
     "output_type": "execute_result"
    }
   ],
   "source": [
    "# Number of array dimensions\n",
    "c.ndim"
   ]
  },
  {
   "cell_type": "code",
   "execution_count": 170,
   "id": "0cf648da-4581-46ae-ac38-685d3b361c86",
   "metadata": {},
   "outputs": [
    {
     "data": {
      "text/plain": [
       "dtype('int32')"
      ]
     },
     "execution_count": 170,
     "metadata": {},
     "output_type": "execute_result"
    }
   ],
   "source": [
    "# Data type of array elements\n",
    "c.dtype"
   ]
  },
  {
   "cell_type": "code",
   "execution_count": 171,
   "id": "ab256103-65ae-419e-8168-e9efd8110b1f",
   "metadata": {},
   "outputs": [
    {
     "data": {
      "text/plain": [
       "'int32'"
      ]
     },
     "execution_count": 171,
     "metadata": {},
     "output_type": "execute_result"
    }
   ],
   "source": [
    "# Name of data type\n",
    "c.dtype.name"
   ]
  },
  {
   "cell_type": "code",
   "execution_count": 182,
   "id": "ccfc1fb1-7ba2-4f6f-bfe7-3e6177336f13",
   "metadata": {},
   "outputs": [
    {
     "data": {
      "text/plain": [
       "array([[2., 3., 4.],\n",
       "       [4., 5., 6.]])"
      ]
     },
     "execution_count": 182,
     "metadata": {},
     "output_type": "execute_result"
    }
   ],
   "source": [
    "# Convert an array to a different type\n",
    "b.astype(float) "
   ]
  },
  {
   "cell_type": "code",
   "execution_count": 183,
   "id": "1395c45a-ae1c-4e77-a427-8a3d3d19f403",
   "metadata": {},
   "outputs": [
    {
     "data": {
      "text/plain": [
       "array([['2', '3', '4'],\n",
       "       ['4', '5', '6']], dtype='<U11')"
      ]
     },
     "execution_count": 183,
     "metadata": {},
     "output_type": "execute_result"
    }
   ],
   "source": [
    "b.astype(str)"
   ]
  },
  {
   "cell_type": "markdown",
   "id": "a616e497-f2fa-48a8-8182-182d91af31bb",
   "metadata": {},
   "source": [
    "-  #### Asking for Help "
   ]
  },
  {
   "cell_type": "code",
   "execution_count": 188,
   "id": "adc7f45d-7041-409d-8e8b-06040ebf616c",
   "metadata": {},
   "outputs": [
    {
     "name": "stdout",
     "output_type": "stream",
     "text": [
      "Data-type of the array's elements.\n",
      "\n",
      ".. warning::\n",
      "\n",
      "    Setting ``arr.dtype`` is discouraged and may be deprecated in the\n",
      "    future.  Setting will replace the ``dtype`` without modifying the\n",
      "    memory (see also `ndarray.view` and `ndarray.astype`).\n",
      "\n",
      "Parameters\n",
      "----------\n",
      "None\n",
      "\n",
      "Returns\n",
      "-------\n",
      "d : numpy dtype object\n",
      "\n",
      "See Also\n",
      "--------\n",
      "ndarray.astype : Cast the values contained in the array to a new data-type.\n",
      "ndarray.view : Create a view of the same data but a different data-type.\n",
      "numpy.dtype\n",
      "\n",
      "Examples\n",
      "--------\n",
      ">>> x\n",
      "array([[0, 1],\n",
      "       [2, 3]])\n",
      ">>> x.dtype\n",
      "dtype('int32')\n",
      ">>> type(x.dtype)\n",
      "<type 'numpy.dtype'>\n"
     ]
    }
   ],
   "source": [
    "np.info(np.ndarray.dtype)"
   ]
  },
  {
   "cell_type": "markdown",
   "id": "b330ee2a-1fca-4b3d-97f8-a6c29e7ab974",
   "metadata": {},
   "source": [
    "-  #### Array Mathematics"
   ]
  },
  {
   "cell_type": "markdown",
   "id": "70bdb8e5-5f1c-416c-809e-0f07dc6d0dd8",
   "metadata": {},
   "source": [
    "Arithmetic Operations"
   ]
  },
  {
   "cell_type": "code",
   "execution_count": 197,
   "id": "071242e6-16b8-4c0a-98a3-2931f963c9ce",
   "metadata": {},
   "outputs": [
    {
     "data": {
      "text/plain": [
       "array([ 2,  6, 10, 14, 18])"
      ]
     },
     "execution_count": 197,
     "metadata": {},
     "output_type": "execute_result"
    }
   ],
   "source": [
    "a1 = np.arange(2,20,4)\n",
    "a1"
   ]
  },
  {
   "cell_type": "code",
   "execution_count": 196,
   "id": "e19115d5-7303-4de8-a250-681629886ce4",
   "metadata": {},
   "outputs": [
    {
     "data": {
      "text/plain": [
       "array([ 3, 15, 27, 39, 51])"
      ]
     },
     "execution_count": 196,
     "metadata": {},
     "output_type": "execute_result"
    }
   ],
   "source": [
    "b1 = np.arange(3,60,12)\n",
    "b1"
   ]
  },
  {
   "cell_type": "code",
   "execution_count": 201,
   "id": "28c56112-943f-4083-ba37-c43c736f4650",
   "metadata": {},
   "outputs": [
    {
     "data": {
      "text/plain": [
       "array([ 1,  9, 17, 25, 33])"
      ]
     },
     "execution_count": 201,
     "metadata": {},
     "output_type": "execute_result"
    }
   ],
   "source": [
    "# Subtraction\n",
    "b1 - a1"
   ]
  },
  {
   "cell_type": "code",
   "execution_count": 203,
   "id": "7f43a49c-5b45-45fc-a398-a0e6db20efac",
   "metadata": {},
   "outputs": [
    {
     "data": {
      "text/plain": [
       "array([ 1,  9, 17, 25, 33])"
      ]
     },
     "execution_count": 203,
     "metadata": {},
     "output_type": "execute_result"
    }
   ],
   "source": [
    "np.subtract(b1,a1)"
   ]
  },
  {
   "cell_type": "code",
   "execution_count": 204,
   "id": "a3daa4c5-7919-4205-916b-f8f3e9324e67",
   "metadata": {},
   "outputs": [
    {
     "data": {
      "text/plain": [
       "array([ 5, 21, 37, 53, 69])"
      ]
     },
     "execution_count": 204,
     "metadata": {},
     "output_type": "execute_result"
    }
   ],
   "source": [
    "# Addition\n",
    "b1 + a1"
   ]
  },
  {
   "cell_type": "code",
   "execution_count": 205,
   "id": "48f8fcbf-9781-4981-919b-2c1cc2dfed2c",
   "metadata": {},
   "outputs": [
    {
     "data": {
      "text/plain": [
       "array([ 5, 21, 37, 53, 69])"
      ]
     },
     "execution_count": 205,
     "metadata": {},
     "output_type": "execute_result"
    }
   ],
   "source": [
    "np.add(b1,a1)"
   ]
  },
  {
   "cell_type": "code",
   "execution_count": 208,
   "id": "26688e73-4ad7-4df3-a01d-0335c23af0c4",
   "metadata": {},
   "outputs": [
    {
     "data": {
      "text/plain": [
       "array([1.5       , 2.5       , 2.7       , 2.78571429, 2.83333333])"
      ]
     },
     "execution_count": 208,
     "metadata": {},
     "output_type": "execute_result"
    }
   ],
   "source": [
    "# Division\n",
    "b1/a1"
   ]
  },
  {
   "cell_type": "code",
   "execution_count": 207,
   "id": "9c7d475f-ebd3-4419-8fab-4851a0730b81",
   "metadata": {},
   "outputs": [
    {
     "data": {
      "text/plain": [
       "array([1.5       , 2.5       , 2.7       , 2.78571429, 2.83333333])"
      ]
     },
     "execution_count": 207,
     "metadata": {},
     "output_type": "execute_result"
    }
   ],
   "source": [
    "np.divide(b1,a1)"
   ]
  },
  {
   "cell_type": "code",
   "execution_count": 209,
   "id": "78c9fc94-6296-43d8-beb4-60cebe30c539",
   "metadata": {},
   "outputs": [
    {
     "data": {
      "text/plain": [
       "array([  6,  90, 270, 546, 918])"
      ]
     },
     "execution_count": 209,
     "metadata": {},
     "output_type": "execute_result"
    }
   ],
   "source": [
    "# Multiplication\n",
    "a1 * b1"
   ]
  },
  {
   "cell_type": "code",
   "execution_count": 210,
   "id": "d40dc0e8-f0e7-4dfb-8eb9-ea762068139a",
   "metadata": {},
   "outputs": [
    {
     "data": {
      "text/plain": [
       "array([  6,  90, 270, 546, 918])"
      ]
     },
     "execution_count": 210,
     "metadata": {},
     "output_type": "execute_result"
    }
   ],
   "source": [
    "np.multiply(a1,b1)"
   ]
  },
  {
   "cell_type": "code",
   "execution_count": 214,
   "id": "aa3a7d70-c1ba-4ca1-8d77-5ba78f6fdf93",
   "metadata": {},
   "outputs": [
    {
     "data": {
      "text/plain": [
       "array([[  7.3890561 ,  20.08553692,  54.59815003],\n",
       "       [ 54.59815003, 148.4131591 , 403.42879349]])"
      ]
     },
     "execution_count": 214,
     "metadata": {},
     "output_type": "execute_result"
    }
   ],
   "source": [
    "# Exponentiation\n",
    "np.exp(b)"
   ]
  },
  {
   "cell_type": "code",
   "execution_count": 215,
   "id": "e7c88741-596f-41bf-a0d4-eadb39cd3499",
   "metadata": {},
   "outputs": [
    {
     "data": {
      "text/plain": [
       "array([1.73205081, 3.87298335, 5.19615242, 6.244998  , 7.14142843])"
      ]
     },
     "execution_count": 215,
     "metadata": {},
     "output_type": "execute_result"
    }
   ],
   "source": [
    "# Square root\n",
    "np.sqrt(b1)"
   ]
  },
  {
   "cell_type": "code",
   "execution_count": 217,
   "id": "c124fc87-f81a-4e01-966a-d1224cc0ebc9",
   "metadata": {},
   "outputs": [
    {
     "data": {
      "text/plain": [
       "array([ 0.90929743, -0.2794155 , -0.54402111,  0.99060736, -0.75098725])"
      ]
     },
     "execution_count": 217,
     "metadata": {},
     "output_type": "execute_result"
    }
   ],
   "source": [
    "# Print sines of an array\n",
    "np.sin(a1)"
   ]
  },
  {
   "cell_type": "code",
   "execution_count": 218,
   "id": "c1194401-cd3c-444f-a0a4-baf0d877ee24",
   "metadata": {},
   "outputs": [
    {
     "data": {
      "text/plain": [
       "array([-0.41614684,  0.96017029, -0.83907153,  0.13673722,  0.66031671])"
      ]
     },
     "execution_count": 218,
     "metadata": {},
     "output_type": "execute_result"
    }
   ],
   "source": [
    "# Element-wise cosine \n",
    "np.cos(a1)"
   ]
  },
  {
   "cell_type": "code",
   "execution_count": 219,
   "id": "4bf74b2c-8042-406d-97d9-d050c19a3803",
   "metadata": {},
   "outputs": [
    {
     "data": {
      "text/plain": [
       "array([1.09861229, 2.7080502 , 3.29583687, 3.66356165, 3.93182563])"
      ]
     },
     "execution_count": 219,
     "metadata": {},
     "output_type": "execute_result"
    }
   ],
   "source": [
    "# Element-wise natural logarithm \n",
    "np.log(b1)"
   ]
  },
  {
   "cell_type": "code",
   "execution_count": 221,
   "id": "750f90a1-292d-4278-bb91-6a5ec3f75efc",
   "metadata": {},
   "outputs": [
    {
     "data": {
      "text/plain": [
       "1830"
      ]
     },
     "execution_count": 221,
     "metadata": {},
     "output_type": "execute_result"
    }
   ],
   "source": [
    "# Dot product\n",
    "a1.dot(b1)"
   ]
  },
  {
   "cell_type": "code",
   "execution_count": 222,
   "id": "ab1337c4-ebd8-4ce0-ad8d-435d17ce759d",
   "metadata": {},
   "outputs": [
    {
     "name": "stdout",
     "output_type": "stream",
     "text": [
      "32\n"
     ]
    }
   ],
   "source": [
    "import numpy as np\n",
    "\n",
    "a1 = np.array([1, 2, 3])\n",
    "b1 = np.array([4, 5, 6])\n",
    "\n",
    "result = a1.dot(b1)\n",
    "print(result)  # Output: 32\n",
    "# (1×4)+(2×5)+(3×6)\n",
    "#  = 04+10+18=32\n"
   ]
  },
  {
   "cell_type": "markdown",
   "id": "151b8b5c-24e3-4f9b-91ab-171a15c866d1",
   "metadata": {},
   "source": [
    "Comparison"
   ]
  },
  {
   "cell_type": "code",
   "execution_count": 228,
   "id": "cbed96b6-1141-44ea-baf5-6d90603c4d62",
   "metadata": {},
   "outputs": [
    {
     "data": {
      "text/plain": [
       "array([1, 2, 3])"
      ]
     },
     "execution_count": 228,
     "metadata": {},
     "output_type": "execute_result"
    }
   ],
   "source": [
    "a1"
   ]
  },
  {
   "cell_type": "code",
   "execution_count": 229,
   "id": "d1635b3c-ce73-4f64-96bf-f4f3d8b252f9",
   "metadata": {},
   "outputs": [
    {
     "data": {
      "text/plain": [
       "array([4, 5, 6])"
      ]
     },
     "execution_count": 229,
     "metadata": {},
     "output_type": "execute_result"
    }
   ],
   "source": [
    "b1"
   ]
  },
  {
   "cell_type": "code",
   "execution_count": 227,
   "id": "5984329c-5ed4-463f-90b7-867a2a7a254a",
   "metadata": {},
   "outputs": [
    {
     "data": {
      "text/plain": [
       "array([False, False, False])"
      ]
     },
     "execution_count": 227,
     "metadata": {},
     "output_type": "execute_result"
    }
   ],
   "source": [
    "# Element-wise comparison\n",
    "a1 == b1"
   ]
  },
  {
   "cell_type": "code",
   "execution_count": 231,
   "id": "c8ae391b-9bfd-4d0d-8ddc-032f25b292d4",
   "metadata": {},
   "outputs": [
    {
     "data": {
      "text/plain": [
       "array([ True,  True,  True])"
      ]
     },
     "execution_count": 231,
     "metadata": {},
     "output_type": "execute_result"
    }
   ],
   "source": [
    "a2 = np.array((8,9,0))\n",
    "b2 = np.array((8,9,0))\n",
    "a2 == b2"
   ]
  },
  {
   "cell_type": "code",
   "execution_count": 232,
   "id": "45c3226d-5a1c-4f82-8eb2-770df59a2345",
   "metadata": {},
   "outputs": [
    {
     "data": {
      "text/plain": [
       "array([False, False, False])"
      ]
     },
     "execution_count": 232,
     "metadata": {},
     "output_type": "execute_result"
    }
   ],
   "source": [
    "# Element-wise comparison\n",
    "a2< b2 "
   ]
  },
  {
   "cell_type": "code",
   "execution_count": 234,
   "id": "43d39080-52d5-4cd9-8235-07636d0aa95a",
   "metadata": {},
   "outputs": [
    {
     "data": {
      "text/plain": [
       "array([False, False,  True])"
      ]
     },
     "execution_count": 234,
     "metadata": {},
     "output_type": "execute_result"
    }
   ],
   "source": [
    "b1>b2"
   ]
  },
  {
   "cell_type": "code",
   "execution_count": 235,
   "id": "07bdaca8-1d46-43a8-8257-7f6b57790f5b",
   "metadata": {},
   "outputs": [
    {
     "data": {
      "text/plain": [
       "False"
      ]
     },
     "execution_count": 235,
     "metadata": {},
     "output_type": "execute_result"
    }
   ],
   "source": [
    "# Array-wise comparison\n",
    "np.array_equal(a1,b1)"
   ]
  },
  {
   "cell_type": "code",
   "execution_count": 236,
   "id": "8eeeeba6-834f-4c8f-81b6-be67c5fcea9b",
   "metadata": {},
   "outputs": [
    {
     "data": {
      "text/plain": [
       "True"
      ]
     },
     "execution_count": 236,
     "metadata": {},
     "output_type": "execute_result"
    }
   ],
   "source": [
    "np.array_equal(a2,b2)"
   ]
  },
  {
   "cell_type": "markdown",
   "id": "0aac44f8-f0a3-4b8c-8764-5b231cec34a9",
   "metadata": {},
   "source": [
    "Aggregate Functions"
   ]
  },
  {
   "cell_type": "code",
   "execution_count": 237,
   "id": "3a29d04d-7303-45e6-9ac7-7e61688e3211",
   "metadata": {},
   "outputs": [
    {
     "data": {
      "text/plain": [
       "6"
      ]
     },
     "execution_count": 237,
     "metadata": {},
     "output_type": "execute_result"
    }
   ],
   "source": [
    "# Array-wise sum\n",
    "a1.sum()"
   ]
  },
  {
   "cell_type": "code",
   "execution_count": 239,
   "id": "670626f0-9df1-454e-b9e9-900fe51ac57c",
   "metadata": {},
   "outputs": [
    {
     "data": {
      "text/plain": [
       "4"
      ]
     },
     "execution_count": 239,
     "metadata": {},
     "output_type": "execute_result"
    }
   ],
   "source": [
    "# Array-wise minimum value\n",
    "b1.min()"
   ]
  },
  {
   "cell_type": "code",
   "execution_count": 241,
   "id": "9cf27733-2705-438c-9de9-6a561141e4dc",
   "metadata": {},
   "outputs": [
    {
     "data": {
      "text/plain": [
       "6"
      ]
     },
     "execution_count": 241,
     "metadata": {},
     "output_type": "execute_result"
    }
   ],
   "source": [
    "# Maximum value of an array row\n",
    "b1.max(axis = 0)"
   ]
  },
  {
   "cell_type": "code",
   "execution_count": 244,
   "id": "728cf51b-cdb3-45d9-8045-d050a5597299",
   "metadata": {},
   "outputs": [
    {
     "data": {
      "text/plain": [
       "<function ndarray.cumsum>"
      ]
     },
     "execution_count": 244,
     "metadata": {},
     "output_type": "execute_result"
    }
   ],
   "source": [
    "# Cumulative sum of the elements\n",
    "b1.cumsum"
   ]
  },
  {
   "cell_type": "code",
   "execution_count": 247,
   "id": "5c732e29-6cb7-4f26-8045-60569490142b",
   "metadata": {},
   "outputs": [
    {
     "data": {
      "text/plain": [
       "2.0"
      ]
     },
     "execution_count": 247,
     "metadata": {},
     "output_type": "execute_result"
    }
   ],
   "source": [
    "# mean\n",
    "a1.mean()"
   ]
  },
  {
   "cell_type": "code",
   "execution_count": 251,
   "id": "47112273-ed27-4ee4-9749-9fb4a68b8bb4",
   "metadata": {},
   "outputs": [
    {
     "data": {
      "text/plain": [
       "5.0"
      ]
     },
     "execution_count": 251,
     "metadata": {},
     "output_type": "execute_result"
    }
   ],
   "source": [
    "# This happens because median() is not a method of a NumPy array object. Instead, it's a function in the NumPy module.\n",
    "np.median(b1)\n"
   ]
  },
  {
   "cell_type": "code",
   "execution_count": 256,
   "id": "0e123448-a2b9-4992-a8c5-584c06dc1b8a",
   "metadata": {},
   "outputs": [
    {
     "data": {
      "text/plain": [
       "1.0"
      ]
     },
     "execution_count": 256,
     "metadata": {},
     "output_type": "execute_result"
    }
   ],
   "source": [
    "# Correlation coefficient\n",
    "np.corrcoef(a1)"
   ]
  },
  {
   "cell_type": "code",
   "execution_count": 257,
   "id": "8e99abe3-8dcd-4809-87f5-236863f9e7fd",
   "metadata": {},
   "outputs": [
    {
     "data": {
      "text/plain": [
       "0.816496580927726"
      ]
     },
     "execution_count": 257,
     "metadata": {},
     "output_type": "execute_result"
    }
   ],
   "source": [
    "# Standard deviation\n",
    "np.std(b1)"
   ]
  },
  {
   "cell_type": "markdown",
   "id": "9c23b1df-21dc-4676-9674-00645b4e91bc",
   "metadata": {},
   "source": [
    "-  #### Copying Array"
   ]
  },
  {
   "cell_type": "code",
   "execution_count": 260,
   "id": "d348ea87-7e5a-4dbc-aec8-7e5d716d5500",
   "metadata": {},
   "outputs": [
    {
     "data": {
      "text/plain": [
       "array([1, 2, 3])"
      ]
     },
     "execution_count": 260,
     "metadata": {},
     "output_type": "execute_result"
    }
   ],
   "source": [
    "# Create a view of the array with the same data\n",
    "v = a1.view()\n",
    "v"
   ]
  },
  {
   "cell_type": "code",
   "execution_count": 262,
   "id": "52e42525-3ee8-4bed-ab9f-d2deef5e5cdc",
   "metadata": {},
   "outputs": [
    {
     "data": {
      "text/plain": [
       "array([4, 5, 6])"
      ]
     },
     "execution_count": 262,
     "metadata": {},
     "output_type": "execute_result"
    }
   ],
   "source": [
    "# Create a copy of the array\n",
    "np.copy(b1)"
   ]
  },
  {
   "cell_type": "code",
   "execution_count": 267,
   "id": "7cc3100e-c806-4d32-8646-03913b4fdbc3",
   "metadata": {},
   "outputs": [
    {
     "data": {
      "text/plain": [
       "array([4, 5, 6])"
      ]
     },
     "execution_count": 267,
     "metadata": {},
     "output_type": "execute_result"
    }
   ],
   "source": [
    "# Create a deep copy of the array\n",
    "s = b1.copy()\n",
    "s"
   ]
  },
  {
   "cell_type": "markdown",
   "id": "be57c773-a5cc-4647-85bd-a8c4ef00c60c",
   "metadata": {},
   "source": [
    "-  #### Sorting Arrays"
   ]
  },
  {
   "cell_type": "markdown",
   "id": "1b0e5b15-1082-4674-9aca-1ecae21d2a8e",
   "metadata": {},
   "source": [
    "In NumPy, the axis argument tells the function along which axis to perform the operation.\n",
    "\n",
    "axis=0 → operate column-wise (i.e., sort each column individually).\n",
    "\n",
    "axis=1 → operate row-wise (i.e., sort each row individually)."
   ]
  },
  {
   "cell_type": "code",
   "execution_count": 276,
   "id": "3d58862f-ccd9-4321-827a-c3097801a140",
   "metadata": {},
   "outputs": [
    {
     "data": {
      "text/plain": [
       "array([     0,      1,      2,      2,      2,      2,      4,      4,\n",
       "            4,      5,      5,      5,      5,      5,      6,      7,\n",
       "            8,      9,      9,     22,    999, 545534])"
      ]
     },
     "execution_count": 276,
     "metadata": {},
     "output_type": "execute_result"
    }
   ],
   "source": [
    "# Sort an array\n",
    "arr = np.array((6,5,4,2,5,2,2,2,5,7,8,9,999,9,5,22,1,4,545534,5,0,4))\n",
    "arr.sort()\n",
    "arr"
   ]
  },
  {
   "cell_type": "code",
   "execution_count": 275,
   "id": "1e91699c-3867-4009-9859-2080c024ff66",
   "metadata": {},
   "outputs": [
    {
     "data": {
      "text/plain": [
       "array([     1,      2,      2,      2,      2,      4,      4,      4,\n",
       "            5,      5,      5,      5,      5,      6,      7,      8,\n",
       "            9,      9,     22,    999, 545534])"
      ]
     },
     "execution_count": 275,
     "metadata": {},
     "output_type": "execute_result"
    }
   ],
   "source": [
    "# Sort the elements of an array's axis\n",
    "arr.sort(axis=0)\n",
    "arr"
   ]
  },
  {
   "cell_type": "markdown",
   "id": "4182d1e7-38a8-457f-a994-0be7bdfa9d0e",
   "metadata": {},
   "source": [
    "-  #### Subsetting, Slicing, Indexing"
   ]
  },
  {
   "cell_type": "markdown",
   "id": "141522ce-b8d5-4b61-860e-c364bd83147a",
   "metadata": {},
   "source": [
    "Subsetting"
   ]
  },
  {
   "cell_type": "code",
   "execution_count": 280,
   "id": "946826dc-d521-4997-b8d3-1160753bd03d",
   "metadata": {},
   "outputs": [
    {
     "data": {
      "text/plain": [
       "7"
      ]
     },
     "execution_count": 280,
     "metadata": {},
     "output_type": "execute_result"
    }
   ],
   "source": [
    "# Select the element at the 3rd index\n",
    "array = np.array([2,3,6,7,9,0,5])\n",
    "array[3]"
   ]
  },
  {
   "cell_type": "code",
   "execution_count": 286,
   "id": "39bc75aa-5ebc-4e13-ab72-4a9091645a07",
   "metadata": {},
   "outputs": [
    {
     "data": {
      "text/plain": [
       "array([[2, 3, 4],\n",
       "       [4, 5, 6]])"
      ]
     },
     "execution_count": 286,
     "metadata": {},
     "output_type": "execute_result"
    }
   ],
   "source": [
    "# select the element at row 1 column 2\n",
    "#  6.0 (equivalent to b[1][2])\n",
    "b"
   ]
  },
  {
   "cell_type": "code",
   "execution_count": 289,
   "id": "65b8b40f-fa85-4808-8e0c-24394d15b239",
   "metadata": {},
   "outputs": [
    {
     "data": {
      "text/plain": [
       "6"
      ]
     },
     "execution_count": 289,
     "metadata": {},
     "output_type": "execute_result"
    }
   ],
   "source": [
    "b[1,2]"
   ]
  },
  {
   "cell_type": "markdown",
   "id": "7356f7cb-c12e-4b38-9363-de9409ed23ec",
   "metadata": {},
   "source": [
    "Slicing"
   ]
  },
  {
   "cell_type": "code",
   "execution_count": 291,
   "id": "fe33fd18-e10d-4a0d-a3f5-cc7a4f1399dd",
   "metadata": {},
   "outputs": [
    {
     "data": {
      "text/plain": [
       "array([2, 3, 6, 7, 9, 0, 5])"
      ]
     },
     "execution_count": 291,
     "metadata": {},
     "output_type": "execute_result"
    }
   ],
   "source": [
    "array"
   ]
  },
  {
   "cell_type": "code",
   "execution_count": 293,
   "id": "fb982714-716d-44b8-a3a1-8fe2558da4ac",
   "metadata": {},
   "outputs": [
    {
     "data": {
      "text/plain": [
       "array([3, 6, 7, 9])"
      ]
     },
     "execution_count": 293,
     "metadata": {},
     "output_type": "execute_result"
    }
   ],
   "source": [
    "# Select items\n",
    "array[1:5]"
   ]
  },
  {
   "cell_type": "code",
   "execution_count": 295,
   "id": "ee0173cc-30c0-46df-8762-94ef9b64346f",
   "metadata": {},
   "outputs": [
    {
     "data": {
      "text/plain": [
       "array([2, 6, 9, 5])"
      ]
     },
     "execution_count": 295,
     "metadata": {},
     "output_type": "execute_result"
    }
   ],
   "source": [
    "array[0::2]"
   ]
  },
  {
   "cell_type": "code",
   "execution_count": 296,
   "id": "71b05124-c5d1-4317-912a-7b31cf2ed6cb",
   "metadata": {},
   "outputs": [
    {
     "data": {
      "text/plain": [
       "array([2, 3, 6, 7, 9, 0, 5])"
      ]
     },
     "execution_count": 296,
     "metadata": {},
     "output_type": "execute_result"
    }
   ],
   "source": [
    "array[0::]"
   ]
  },
  {
   "cell_type": "code",
   "execution_count": 297,
   "id": "b143edc5-49a7-488f-a798-91bf917ae82d",
   "metadata": {},
   "outputs": [
    {
     "data": {
      "text/plain": [
       "array([5, 0, 9, 7, 6, 3, 2])"
      ]
     },
     "execution_count": 297,
     "metadata": {},
     "output_type": "execute_result"
    }
   ],
   "source": [
    "# Reversed array \n",
    "array[::-1]"
   ]
  },
  {
   "cell_type": "code",
   "execution_count": 298,
   "id": "fd76eac6-a66b-480f-8be5-c9da33b03b19",
   "metadata": {},
   "outputs": [
    {
     "data": {
      "text/plain": [
       "array([2, 3, 6, 7, 9, 0])"
      ]
     },
     "execution_count": 298,
     "metadata": {},
     "output_type": "execute_result"
    }
   ],
   "source": [
    "array[:-1:]"
   ]
  },
  {
   "cell_type": "code",
   "execution_count": 303,
   "id": "8b27222a-05af-4883-a41b-523d3f6495ab",
   "metadata": {},
   "outputs": [
    {
     "data": {
      "text/plain": [
       "array([7, 9])"
      ]
     },
     "execution_count": 303,
     "metadata": {},
     "output_type": "execute_result"
    }
   ],
   "source": [
    "# Boolean Indexing\n",
    "array[array > 6]"
   ]
  },
  {
   "cell_type": "markdown",
   "id": "9089b3bf-55ea-46b0-9b0e-4ee56bd834e6",
   "metadata": {},
   "source": [
    "Fancy Indexing"
   ]
  },
  {
   "cell_type": "code",
   "execution_count": 310,
   "id": "abd06ff5-fc81-44e8-9015-888b45ac78ba",
   "metadata": {},
   "outputs": [
    {
     "data": {
      "text/plain": [
       "array([[2, 3, 4],\n",
       "       [4, 5, 6]])"
      ]
     },
     "execution_count": 310,
     "metadata": {},
     "output_type": "execute_result"
    }
   ],
   "source": [
    "b"
   ]
  },
  {
   "cell_type": "code",
   "execution_count": 308,
   "id": "87a623c3-46c5-4b63-9b2d-3e71f773701c",
   "metadata": {},
   "outputs": [
    {
     "data": {
      "text/plain": [
       "array([4, 3, 6, 2])"
      ]
     },
     "execution_count": 308,
     "metadata": {},
     "output_type": "execute_result"
    }
   ],
   "source": [
    "# Select a subset of the matrix’s rows and coulmns\n",
    "b[[1, 0, 1, 0],[0, 1, 2, 0]] "
   ]
  },
  {
   "cell_type": "markdown",
   "id": "6b969d84-d76c-4789-85a3-9ec6ed417150",
   "metadata": {},
   "source": [
    "-  ##### Array Manipulation"
   ]
  },
  {
   "cell_type": "markdown",
   "id": "c310a331-2abd-4e6b-b942-25a94a573b2c",
   "metadata": {},
   "source": [
    "Transposing Array"
   ]
  },
  {
   "cell_type": "code",
   "execution_count": 313,
   "id": "32bfd0ec-aa3f-4e34-9d8d-da68b4ca535f",
   "metadata": {},
   "outputs": [
    {
     "data": {
      "text/plain": [
       "array([[2, 4],\n",
       "       [3, 5],\n",
       "       [4, 6]])"
      ]
     },
     "execution_count": 313,
     "metadata": {},
     "output_type": "execute_result"
    }
   ],
   "source": [
    "# Permute array dimensions\n",
    "# convert row to col , col to row\n",
    "i = np.transpose(b)\n",
    "i"
   ]
  },
  {
   "cell_type": "code",
   "execution_count": 314,
   "id": "9d4081a3-0ecf-44a2-8f55-c2453b6c306d",
   "metadata": {},
   "outputs": [
    {
     "data": {
      "text/plain": [
       "array([[2, 3, 4],\n",
       "       [4, 5, 6]])"
      ]
     },
     "execution_count": 314,
     "metadata": {},
     "output_type": "execute_result"
    }
   ],
   "source": [
    "i.T"
   ]
  },
  {
   "cell_type": "markdown",
   "id": "bb0c4780-607b-4b5f-abfe-85e8e7b5d278",
   "metadata": {},
   "source": [
    "Changing Array Shape\n"
   ]
  },
  {
   "cell_type": "code",
   "execution_count": 315,
   "id": "0fe2e24a-8b01-4446-ad82-b33c042558ca",
   "metadata": {},
   "outputs": [
    {
     "data": {
      "text/plain": [
       "array([2, 3, 4, 4, 5, 6])"
      ]
     },
     "execution_count": 315,
     "metadata": {},
     "output_type": "execute_result"
    }
   ],
   "source": [
    "# Flatten the array\n",
    "b.ravel()"
   ]
  },
  {
   "cell_type": "code",
   "execution_count": 321,
   "id": "b8bd34cd-5f34-4ad3-ba4f-aaab4232c55e",
   "metadata": {},
   "outputs": [
    {
     "data": {
      "text/plain": [
       "array([[2, 3],\n",
       "       [4, 4],\n",
       "       [5, 6]])"
      ]
     },
     "execution_count": 321,
     "metadata": {},
     "output_type": "execute_result"
    }
   ],
   "source": [
    "# Reshape, but don’t change data\n",
    "b.reshape(3,2)"
   ]
  },
  {
   "cell_type": "markdown",
   "id": "b8f11b90-efc1-43e5-b9ae-8f1d2ef49689",
   "metadata": {},
   "source": [
    "Adding/Removing Elements\n"
   ]
  },
  {
   "cell_type": "code",
   "execution_count": 327,
   "id": "c4431649-27a8-4e92-a7ed-d18e5d504805",
   "metadata": {},
   "outputs": [],
   "source": [
    "# Return a new array with shape (2,6)\n",
    "h = np.arange(5,55,5)\n",
    "h.resize((2,6))"
   ]
  },
  {
   "cell_type": "code",
   "execution_count": 328,
   "id": "b28da03f-a870-4bfb-b44c-a8b03cf0cc9f",
   "metadata": {},
   "outputs": [
    {
     "data": {
      "text/plain": [
       "array([[ 5, 10, 15, 20, 25, 30],\n",
       "       [35, 40, 45, 50,  0,  0]])"
      ]
     },
     "execution_count": 328,
     "metadata": {},
     "output_type": "execute_result"
    }
   ],
   "source": [
    "h"
   ]
  },
  {
   "cell_type": "code",
   "execution_count": 329,
   "id": "d6a157a6-73d2-4563-a718-bded397cb322",
   "metadata": {},
   "outputs": [
    {
     "data": {
      "text/plain": [
       "array([ 5, 10, 15, 20, 25, 30, 35, 40, 45, 50,  0,  0,  2,  3,  4,  4,  5,\n",
       "        6])"
      ]
     },
     "execution_count": 329,
     "metadata": {},
     "output_type": "execute_result"
    }
   ],
   "source": [
    "# Append items to an array\n",
    "np.append(h,b)"
   ]
  },
  {
   "cell_type": "code",
   "execution_count": 330,
   "id": "519c2bb8-a8b8-462d-8c34-eb280814bf13",
   "metadata": {},
   "outputs": [
    {
     "data": {
      "text/plain": [
       "array([[2, 3, 4],\n",
       "       [4, 5, 6]])"
      ]
     },
     "execution_count": 330,
     "metadata": {},
     "output_type": "execute_result"
    }
   ],
   "source": [
    "b"
   ]
  },
  {
   "cell_type": "code",
   "execution_count": 332,
   "id": "84411fc6-93c1-4e78-be76-931e31c642be",
   "metadata": {},
   "outputs": [
    {
     "data": {
      "text/plain": [
       "array([ 5,  6, 10, 15, 20, 25, 30, 35, 40, 45, 50,  0,  0])"
      ]
     },
     "execution_count": 332,
     "metadata": {},
     "output_type": "execute_result"
    }
   ],
   "source": [
    "# Insert items in an array\n",
    "#np.inser(array,index postion where we want to place value, value which we want to place)\n",
    "# it will add extra index \n",
    "np.insert(h,1,6)"
   ]
  },
  {
   "cell_type": "code",
   "execution_count": 338,
   "id": "c170958c-c5ee-4135-9650-302939db0d0a",
   "metadata": {},
   "outputs": [
    {
     "data": {
      "text/plain": [
       "array([ 5, 10, 15, 20, 25, 30, 40, 45, 50,  0,  0])"
      ]
     },
     "execution_count": 338,
     "metadata": {},
     "output_type": "execute_result"
    }
   ],
   "source": [
    "# Delete items from an array\n",
    "np.delete(h,[6])"
   ]
  },
  {
   "cell_type": "markdown",
   "id": "0ab08355-19c5-4535-b40b-9baa8cc2798a",
   "metadata": {},
   "source": [
    "Combining Arrays"
   ]
  },
  {
   "cell_type": "code",
   "execution_count": 348,
   "id": "ec30f26d-8a2f-425e-8db9-9f77e34050fa",
   "metadata": {},
   "outputs": [
    {
     "data": {
      "text/plain": [
       "array([[6, 7, 8, 9],\n",
       "       [2, 3, 4, 5]])"
      ]
     },
     "execution_count": 348,
     "metadata": {},
     "output_type": "execute_result"
    }
   ],
   "source": [
    "x = np.array([[6,7,8,9],[2,3,4,5]])\n",
    "x"
   ]
  },
  {
   "cell_type": "code",
   "execution_count": 349,
   "id": "fabacf8c-db1a-43ee-953d-230fcb9bd447",
   "metadata": {},
   "outputs": [
    {
     "data": {
      "text/plain": [
       "array([[26, 17, 28, 79],\n",
       "       [20, 31, 45, 55]])"
      ]
     },
     "execution_count": 349,
     "metadata": {},
     "output_type": "execute_result"
    }
   ],
   "source": [
    "y = np.array([[26,17,28,79],[20,31,45,55]])\n",
    "y"
   ]
  },
  {
   "cell_type": "code",
   "execution_count": 351,
   "id": "3f639236-551c-4c09-933a-2612c9038110",
   "metadata": {},
   "outputs": [
    {
     "data": {
      "text/plain": [
       "array([[ 6,  7,  8,  9],\n",
       "       [ 2,  3,  4,  5],\n",
       "       [26, 17, 28, 79],\n",
       "       [20, 31, 45, 55]])"
      ]
     },
     "execution_count": 351,
     "metadata": {},
     "output_type": "execute_result"
    }
   ],
   "source": [
    "#  Concatenate arrays\n",
    "np.concatenate((x,y))"
   ]
  },
  {
   "cell_type": "code",
   "execution_count": 353,
   "id": "0edbd5a7-1f02-451c-b7e3-707b2b12e96a",
   "metadata": {},
   "outputs": [
    {
     "data": {
      "text/plain": [
       "array([[[ 6,  7,  8,  9],\n",
       "        [ 2,  3,  4,  5]],\n",
       "\n",
       "       [[26, 17, 28, 79],\n",
       "        [20, 31, 45, 55]]])"
      ]
     },
     "execution_count": 353,
     "metadata": {},
     "output_type": "execute_result"
    }
   ],
   "source": [
    "# Stack arrays vertically (row-wise)\n",
    "np.stack((x,y))"
   ]
  },
  {
   "cell_type": "code",
   "execution_count": 354,
   "id": "76fbb322-ca8d-458a-903f-e40769100a40",
   "metadata": {},
   "outputs": [
    {
     "data": {
      "text/plain": [
       "array([[ 6,  7,  8,  9],\n",
       "       [ 2,  3,  4,  5],\n",
       "       [26, 17, 28, 79],\n",
       "       [20, 31, 45, 55]])"
      ]
     },
     "execution_count": 354,
     "metadata": {},
     "output_type": "execute_result"
    }
   ],
   "source": [
    "# Stack arrays vertically (row-wise)\n",
    "np.vstack((x,y))"
   ]
  },
  {
   "cell_type": "code",
   "execution_count": 355,
   "id": "66b095cd-e791-445f-8526-70784f451946",
   "metadata": {},
   "outputs": [
    {
     "data": {
      "text/plain": [
       "array([[ 6,  7,  8,  9, 26, 17, 28, 79],\n",
       "       [ 2,  3,  4,  5, 20, 31, 45, 55]])"
      ]
     },
     "execution_count": 355,
     "metadata": {},
     "output_type": "execute_result"
    }
   ],
   "source": [
    "# Stack arrays horizontally (column-wise)\n",
    "np.hstack((x,y))"
   ]
  },
  {
   "cell_type": "code",
   "execution_count": 356,
   "id": "417e4dd4-035b-4c24-8567-bc24e62981b2",
   "metadata": {},
   "outputs": [
    {
     "data": {
      "text/plain": [
       "array([[ 6,  7,  8,  9],\n",
       "       [ 2,  3,  4,  5],\n",
       "       [26, 17, 28, 79],\n",
       "       [20, 31, 45, 55]])"
      ]
     },
     "execution_count": 356,
     "metadata": {},
     "output_type": "execute_result"
    }
   ],
   "source": [
    " np.r_[x,y] "
   ]
  },
  {
   "cell_type": "code",
   "execution_count": 357,
   "id": "c581f57f-b674-453e-bf57-dffa50f8d543",
   "metadata": {},
   "outputs": [
    {
     "data": {
      "text/plain": [
       "array([[ 6,  7,  8,  9, 26, 17, 28, 79],\n",
       "       [ 2,  3,  4,  5, 20, 31, 45, 55]])"
      ]
     },
     "execution_count": 357,
     "metadata": {},
     "output_type": "execute_result"
    }
   ],
   "source": [
    "# Create stacked column-wise arrays\n",
    "np.column_stack((x,y)) "
   ]
  },
  {
   "cell_type": "code",
   "execution_count": 358,
   "id": "22e7dd8a-8725-495e-af14-f2c9bdb02d1f",
   "metadata": {},
   "outputs": [
    {
     "data": {
      "text/plain": [
       "array([[ 6,  7,  8,  9, 26, 17, 28, 79],\n",
       "       [ 2,  3,  4,  5, 20, 31, 45, 55]])"
      ]
     },
     "execution_count": 358,
     "metadata": {},
     "output_type": "execute_result"
    }
   ],
   "source": [
    "# Create stacked column-wise arrays\n",
    "np.c_[x,y]"
   ]
  },
  {
   "cell_type": "markdown",
   "id": "f1297d22-0c3a-4c5e-849a-26104721e705",
   "metadata": {},
   "source": [
    "Splitting Arrays"
   ]
  },
  {
   "cell_type": "code",
   "execution_count": 360,
   "id": "6ddb7408-4b30-4e22-a012-18a00a38293d",
   "metadata": {},
   "outputs": [
    {
     "data": {
      "text/plain": [
       "[array([[6, 7],\n",
       "        [2, 3]]),\n",
       " array([[8, 9],\n",
       "        [4, 5]])]"
      ]
     },
     "execution_count": 360,
     "metadata": {},
     "output_type": "execute_result"
    }
   ],
   "source": [
    "# Split the array horizontally at the 2rd index\n",
    "np.hsplit(x,2)"
   ]
  },
  {
   "cell_type": "code",
   "execution_count": 361,
   "id": "6f16a07b-28e3-4f64-957c-a239ef3dce89",
   "metadata": {},
   "outputs": [
    {
     "data": {
      "text/plain": [
       "array([[6, 7, 8, 9],\n",
       "       [2, 3, 4, 5]])"
      ]
     },
     "execution_count": 361,
     "metadata": {},
     "output_type": "execute_result"
    }
   ],
   "source": [
    "x"
   ]
  },
  {
   "cell_type": "code",
   "execution_count": 362,
   "id": "2caad6a8-95e7-4048-9b7c-929206c4431b",
   "metadata": {},
   "outputs": [
    {
     "data": {
      "text/plain": [
       "[array([[26, 17, 28, 79]]), array([[20, 31, 45, 55]])]"
      ]
     },
     "execution_count": 362,
     "metadata": {},
     "output_type": "execute_result"
    }
   ],
   "source": [
    "# Split the array vertically at the 2nd index\n",
    "np.vsplit(y,2) "
   ]
  },
  {
   "cell_type": "code",
   "execution_count": 363,
   "id": "d1d0fe19-55c8-436b-be66-95e959fa33b6",
   "metadata": {},
   "outputs": [
    {
     "data": {
      "text/plain": [
       "array([[26, 17, 28, 79],\n",
       "       [20, 31, 45, 55]])"
      ]
     },
     "execution_count": 363,
     "metadata": {},
     "output_type": "execute_result"
    }
   ],
   "source": [
    "y"
   ]
  }
 ],
 "metadata": {
  "kernelspec": {
   "display_name": "Python [conda env:base] *",
   "language": "python",
   "name": "conda-base-py"
  },
  "language_info": {
   "codemirror_mode": {
    "name": "ipython",
    "version": 3
   },
   "file_extension": ".py",
   "mimetype": "text/x-python",
   "name": "python",
   "nbconvert_exporter": "python",
   "pygments_lexer": "ipython3",
   "version": "3.12.7"
  }
 },
 "nbformat": 4,
 "nbformat_minor": 5
}
